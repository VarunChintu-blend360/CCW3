{
 "cells": [
  {
   "cell_type": "markdown",
   "id": "f05a0c21",
   "metadata": {},
   "source": [
    "## Web Scraping "
   ]
  },
  {
   "cell_type": "code",
   "execution_count": null,
   "id": "6e43d02c",
   "metadata": {},
   "outputs": [],
   "source": [
    "# Installing required libraries\n",
    "!pip install snowflake-connector-python"
   ]
  },
  {
   "cell_type": "code",
   "execution_count": 3,
   "id": "d2b1114e",
   "metadata": {},
   "outputs": [],
   "source": [
    "# Importing required libraries\n",
    "import requests\n",
    "from bs4 import BeautifulSoup\n",
    "import pandas as pd\n",
    "import snowflake.connector"
   ]
  },
  {
   "cell_type": "code",
   "execution_count": 4,
   "id": "a05dd96d",
   "metadata": {},
   "outputs": [],
   "source": [
    "# Function to scrape book details from a given URL\n",
    "def scrape_books(url):\n",
    "    data = []  # List to store book details\n",
    "    \n",
    "    # Iterate through pages 1 to 50\n",
    "    for page in range(1, 51):\n",
    "        page_url = f\"{url}catalogue/page-{page}.html\"\n",
    "        response = requests.get(page_url)\n",
    "        \n",
    "        # Check if the response is successful       \n",
    "        if response.status_code == 200:\n",
    "            soup = BeautifulSoup(response.content, 'html.parser')\n",
    "            book_containers = soup.find_all('article', class_='product_pod')\n",
    "            \n",
    "            # Extract book details from each book container           \n",
    "            for book in book_containers:\n",
    "                # Extract title, price, rating, and availability of the book\n",
    "                title = book.find('h3').find('a')['title']\n",
    "                price = book.find('p', class_='price_color').text\n",
    "                rating = book.find('p', class_='star-rating')['class'][1]\n",
    "                availability = book.find('p', class_='instock availability').text.strip()\n",
    "                # Append extracted details to the data list\n",
    "                data.append({'Title': title, 'Price': price, 'Rating': rating.capitalize(), 'Availability': availability})\n",
    "        else:\n",
    "            # Notify if webpage retrieval fails for a particular page\n",
    "            print(f\"Failed to retrieve webpage for page {page}\")\n",
    "    \n",
    "    # Create a DataFrame from the collected data\n",
    "    df = pd.DataFrame(data)\n",
    "    \n",
    "    # Return the DataFrame containing book details\n",
    "    return df"
   ]
  },
  {
   "cell_type": "code",
   "execution_count": 5,
   "id": "830b1851",
   "metadata": {},
   "outputs": [],
   "source": [
    "# URL of the bookstore website\n",
    "base_url = 'https://books.toscrape.com/'\n",
    "\n",
    "# Call the function to scrape books from multiple an dcreate a Dataframe\n",
    "df = scrape_books(base_url)"
   ]
  },
  {
   "cell_type": "markdown",
   "id": "44e5cb63",
   "metadata": {},
   "source": [
    "## Data Tranformations"
   ]
  },
  {
   "cell_type": "code",
   "execution_count": 7,
   "id": "289863ee",
   "metadata": {},
   "outputs": [],
   "source": [
    "# Converting Price from string to integer value\n",
    "df['Price'] = pd.to_numeric(df['Price'].str.replace('£', ''), errors='coerce') "
   ]
  },
  {
   "cell_type": "code",
   "execution_count": 9,
   "id": "5f123b00",
   "metadata": {},
   "outputs": [],
   "source": [
    "# Converting Availability from string to Boolean value\n",
    "df['Availability'] = df['Availability'].str.strip().map({'In stock': True, 'Out of stock': False})"
   ]
  },
  {
   "cell_type": "code",
   "execution_count": 11,
   "id": "8eabef89",
   "metadata": {},
   "outputs": [],
   "source": [
    "# Converting Rating from string to numeric value\n",
    "rating_mapping = {'One': 1, 'Two': 2, 'Three': 3, 'Four': 4, 'Five': 5}\n",
    "df['Rating'] = df['Rating'].map(rating_mapping)"
   ]
  },
  {
   "cell_type": "code",
   "execution_count": 12,
   "id": "7e5148f8",
   "metadata": {},
   "outputs": [
    {
     "data": {
      "text/html": [
       "<div>\n",
       "<style scoped>\n",
       "    .dataframe tbody tr th:only-of-type {\n",
       "        vertical-align: middle;\n",
       "    }\n",
       "\n",
       "    .dataframe tbody tr th {\n",
       "        vertical-align: top;\n",
       "    }\n",
       "\n",
       "    .dataframe thead th {\n",
       "        text-align: right;\n",
       "    }\n",
       "</style>\n",
       "<table border=\"1\" class=\"dataframe\">\n",
       "  <thead>\n",
       "    <tr style=\"text-align: right;\">\n",
       "      <th></th>\n",
       "      <th>Title</th>\n",
       "      <th>Price</th>\n",
       "      <th>Rating</th>\n",
       "      <th>Availability</th>\n",
       "    </tr>\n",
       "  </thead>\n",
       "  <tbody>\n",
       "    <tr>\n",
       "      <th>0</th>\n",
       "      <td>A Light in the Attic</td>\n",
       "      <td>51.77</td>\n",
       "      <td>3</td>\n",
       "      <td>True</td>\n",
       "    </tr>\n",
       "    <tr>\n",
       "      <th>1</th>\n",
       "      <td>Tipping the Velvet</td>\n",
       "      <td>53.74</td>\n",
       "      <td>1</td>\n",
       "      <td>True</td>\n",
       "    </tr>\n",
       "    <tr>\n",
       "      <th>2</th>\n",
       "      <td>Soumission</td>\n",
       "      <td>50.10</td>\n",
       "      <td>1</td>\n",
       "      <td>True</td>\n",
       "    </tr>\n",
       "    <tr>\n",
       "      <th>3</th>\n",
       "      <td>Sharp Objects</td>\n",
       "      <td>47.82</td>\n",
       "      <td>4</td>\n",
       "      <td>True</td>\n",
       "    </tr>\n",
       "    <tr>\n",
       "      <th>4</th>\n",
       "      <td>Sapiens: A Brief History of Humankind</td>\n",
       "      <td>54.23</td>\n",
       "      <td>5</td>\n",
       "      <td>True</td>\n",
       "    </tr>\n",
       "    <tr>\n",
       "      <th>...</th>\n",
       "      <td>...</td>\n",
       "      <td>...</td>\n",
       "      <td>...</td>\n",
       "      <td>...</td>\n",
       "    </tr>\n",
       "    <tr>\n",
       "      <th>995</th>\n",
       "      <td>Alice in Wonderland (Alice's Adventures in Won...</td>\n",
       "      <td>55.53</td>\n",
       "      <td>1</td>\n",
       "      <td>True</td>\n",
       "    </tr>\n",
       "    <tr>\n",
       "      <th>996</th>\n",
       "      <td>Ajin: Demi-Human, Volume 1 (Ajin: Demi-Human #1)</td>\n",
       "      <td>57.06</td>\n",
       "      <td>4</td>\n",
       "      <td>True</td>\n",
       "    </tr>\n",
       "    <tr>\n",
       "      <th>997</th>\n",
       "      <td>A Spy's Devotion (The Regency Spies of London #1)</td>\n",
       "      <td>16.97</td>\n",
       "      <td>5</td>\n",
       "      <td>True</td>\n",
       "    </tr>\n",
       "    <tr>\n",
       "      <th>998</th>\n",
       "      <td>1st to Die (Women's Murder Club #1)</td>\n",
       "      <td>53.98</td>\n",
       "      <td>1</td>\n",
       "      <td>True</td>\n",
       "    </tr>\n",
       "    <tr>\n",
       "      <th>999</th>\n",
       "      <td>1,000 Places to See Before You Die</td>\n",
       "      <td>26.08</td>\n",
       "      <td>5</td>\n",
       "      <td>True</td>\n",
       "    </tr>\n",
       "  </tbody>\n",
       "</table>\n",
       "<p>1000 rows × 4 columns</p>\n",
       "</div>"
      ],
      "text/plain": [
       "                                                 Title  Price  Rating  \\\n",
       "0                                 A Light in the Attic  51.77       3   \n",
       "1                                   Tipping the Velvet  53.74       1   \n",
       "2                                           Soumission  50.10       1   \n",
       "3                                        Sharp Objects  47.82       4   \n",
       "4                Sapiens: A Brief History of Humankind  54.23       5   \n",
       "..                                                 ...    ...     ...   \n",
       "995  Alice in Wonderland (Alice's Adventures in Won...  55.53       1   \n",
       "996   Ajin: Demi-Human, Volume 1 (Ajin: Demi-Human #1)  57.06       4   \n",
       "997  A Spy's Devotion (The Regency Spies of London #1)  16.97       5   \n",
       "998                1st to Die (Women's Murder Club #1)  53.98       1   \n",
       "999                 1,000 Places to See Before You Die  26.08       5   \n",
       "\n",
       "     Availability  \n",
       "0            True  \n",
       "1            True  \n",
       "2            True  \n",
       "3            True  \n",
       "4            True  \n",
       "..            ...  \n",
       "995          True  \n",
       "996          True  \n",
       "997          True  \n",
       "998          True  \n",
       "999          True  \n",
       "\n",
       "[1000 rows x 4 columns]"
      ]
     },
     "execution_count": 12,
     "metadata": {},
     "output_type": "execute_result"
    }
   ],
   "source": [
    "df"
   ]
  },
  {
   "cell_type": "markdown",
   "id": "7e77cc11",
   "metadata": {},
   "source": [
    "## Database Uploading"
   ]
  },
  {
   "cell_type": "code",
   "execution_count": 13,
   "id": "e7bdffdb",
   "metadata": {},
   "outputs": [],
   "source": [
    "# Snowflake connection parameters\n",
    "account = 'vniqwci-jj28244'\n",
    "user = 'varun'\n",
    "password = 'Blend360'\n",
    "warehouse = 'CCW3_WH'\n",
    "database = 'CCW3_DB'"
   ]
  },
  {
   "cell_type": "code",
   "execution_count": 14,
   "id": "87645aa7",
   "metadata": {},
   "outputs": [],
   "source": [
    "# Snowflake connection\n",
    "conn = snowflake.connector.connect(\n",
    "    user=user,\n",
    "    password=password,\n",
    "    account=account\n",
    ")"
   ]
  },
  {
   "cell_type": "code",
   "execution_count": 15,
   "id": "a0b8aa84",
   "metadata": {},
   "outputs": [],
   "source": [
    "# Snowflake cursor\n",
    "cur = conn.cursor()"
   ]
  },
  {
   "cell_type": "code",
   "execution_count": 22,
   "id": "26a7ff9f",
   "metadata": {},
   "outputs": [
    {
     "data": {
      "text/plain": [
       "<snowflake.connector.cursor.SnowflakeCursor at 0x171da83e650>"
      ]
     },
     "execution_count": 22,
     "metadata": {},
     "output_type": "execute_result"
    }
   ],
   "source": [
    "cur.execute(f\"DROP WAREHOUSE IF EXISTS {warehouse}\")\n",
    "cur.execute(f\"DROP DATABASE IF EXISTS {database}\")"
   ]
  },
  {
   "cell_type": "code",
   "execution_count": 23,
   "id": "1ce4e521",
   "metadata": {},
   "outputs": [
    {
     "data": {
      "text/plain": [
       "<snowflake.connector.cursor.SnowflakeCursor at 0x171da83e650>"
      ]
     },
     "execution_count": 23,
     "metadata": {},
     "output_type": "execute_result"
    }
   ],
   "source": [
    "# Create warehouse if it doesn't exist\n",
    "cur.execute(f\"CREATE WAREHOUSE IF NOT EXISTS {warehouse}\")\n",
    "# Use the warehouse\n",
    "cur.execute(f\"USE WAREHOUSE {warehouse}\")"
   ]
  },
  {
   "cell_type": "code",
   "execution_count": 24,
   "id": "7802e914",
   "metadata": {},
   "outputs": [
    {
     "data": {
      "text/plain": [
       "<snowflake.connector.cursor.SnowflakeCursor at 0x171da83e650>"
      ]
     },
     "execution_count": 24,
     "metadata": {},
     "output_type": "execute_result"
    }
   ],
   "source": [
    "# Create database if it doesn't exist\n",
    "cur.execute(f\"CREATE DATABASE IF NOT EXISTS {database}\")\n",
    "\n",
    "# Use the database\n",
    "cur.execute(f\"USE DATABASE {database}\")"
   ]
  },
  {
   "cell_type": "code",
   "execution_count": 25,
   "id": "da176dee",
   "metadata": {},
   "outputs": [
    {
     "data": {
      "text/plain": [
       "<snowflake.connector.cursor.SnowflakeCursor at 0x171da83e650>"
      ]
     },
     "execution_count": 25,
     "metadata": {},
     "output_type": "execute_result"
    }
   ],
   "source": [
    "# Create table in Snowflake\n",
    "table_name = 'books_table'\n",
    "cur.execute(f\"CREATE TABLE IF NOT EXISTS {table_name} (Title STRING, Price NUMBER, Rating NUMBER, Availability BOOLEAN)\")"
   ]
  },
  {
   "cell_type": "code",
   "execution_count": 26,
   "id": "4f09ce7e",
   "metadata": {},
   "outputs": [],
   "source": [
    "# Insert data from Dataframe into Database \n",
    "insert_query = f\"INSERT INTO {table_name} (Title, Price, Rating, Availability) VALUES (%s, %s, %s, %s)\"\n",
    "for index, row in df.iterrows():\n",
    "    cur.execute(insert_query, (row['Title'], row['Price'], row['Rating'], row['Availability']))"
   ]
  },
  {
   "cell_type": "code",
   "execution_count": null,
   "id": "abfa3c2f",
   "metadata": {},
   "outputs": [],
   "source": [
    "# Commit changes\n",
    "cur.execute(\"COMMIT\")"
   ]
  },
  {
   "cell_type": "code",
   "execution_count": null,
   "id": "8376fa01",
   "metadata": {},
   "outputs": [],
   "source": [
    "# Close cursor and connection\n",
    "cur.close()\n",
    "conn.close()"
   ]
  },
  {
   "cell_type": "code",
   "execution_count": null,
   "id": "8a033dfd",
   "metadata": {},
   "outputs": [],
   "source": []
  }
 ],
 "metadata": {
  "kernelspec": {
   "display_name": "Python 3 (ipykernel)",
   "language": "python",
   "name": "python3"
  },
  "language_info": {
   "codemirror_mode": {
    "name": "ipython",
    "version": 3
   },
   "file_extension": ".py",
   "mimetype": "text/x-python",
   "name": "python",
   "nbconvert_exporter": "python",
   "pygments_lexer": "ipython3",
   "version": "3.11.5"
  }
 },
 "nbformat": 4,
 "nbformat_minor": 5
}
